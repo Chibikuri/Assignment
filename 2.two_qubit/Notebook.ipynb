{
 "cells": [
  {
   "cell_type": "markdown",
   "metadata": {},
   "source": [
    "# Two qubit operations"
   ]
  },
  {
   "cell_type": "code",
   "execution_count": 2,
   "metadata": {
    "ExecuteTime": {
     "end_time": "2020-05-27T08:12:29.836778Z",
     "start_time": "2020-05-27T08:12:26.748454Z"
    }
   },
   "outputs": [],
   "source": [
    "from qiskit import (QuantumCircuit,\n",
    "                        QuantumRegister,\n",
    "                        ClassicalRegister,\n",
    "                        execute,\n",
    "                        Aer)\n",
    "import numpy as np"
   ]
  },
  {
   "cell_type": "code",
   "execution_count": 3,
   "metadata": {
    "ExecuteTime": {
     "end_time": "2020-05-27T08:15:44.489771Z",
     "start_time": "2020-05-27T08:15:44.484720Z"
    }
   },
   "outputs": [
    {
     "name": "stdout",
     "output_type": "stream",
     "text": [
      "     ┌─────────────────────────────┐\n",
      "q_0: ┤ initialize(0.70711,0.70711) ├\n",
      "     └─────────────────────────────┘\n",
      "     ┌──────────────┐\n",
      "q_0: ┤ U3(pi/2,0,0) ├\n",
      "     └──────────────┘\n"
     ]
    }
   ],
   "source": [
    "from qiskit import transpile\n",
    "qc = QuantumCircuit(1)\n",
    "qc.initialize([1/np.sqrt(2), 1/np.sqrt(2)], 0)\n",
    "print(qc)\n",
    "new_qc = transpile(qc, basis_gates=[\"cx\", \"u3\"])\n",
    "print(new_qc)"
   ]
  },
  {
   "cell_type": "code",
   "execution_count": 4,
   "metadata": {
    "ExecuteTime": {
     "end_time": "2020-05-26T13:10:12.265465Z",
     "start_time": "2020-05-26T13:10:12.260507Z"
    },
    "code_folding": []
   },
   "outputs": [],
   "source": [
    "def show_result(qc):\n",
    "    job = execute(qc, backend = Aer.get_backend(\"statevector_simulator\"))\n",
    "    vec = job.result().get_statevector(qc)\n",
    "    \n",
    "    bins = [format(i, '0%db'%np.ceil(np.log2(len(vec)))) for i, _ in enumerate(vec)]\n",
    "    for i, j in zip(vec, bins):\n",
    "        print(i, \": |%s>\"%str(j))"
   ]
  },
  {
   "cell_type": "markdown",
   "metadata": {},
   "source": [
    "### Q1. Create state \n",
    "$$|\\psi_0\\rangle = \\frac{|00\\rangle + |11\\rangle}{\\sqrt{2}}$$"
   ]
  },
  {
   "cell_type": "code",
   "execution_count": 5,
   "metadata": {
    "ExecuteTime": {
     "end_time": "2020-05-26T13:10:12.678363Z",
     "start_time": "2020-05-26T13:10:12.654316Z"
    }
   },
   "outputs": [
    {
     "name": "stdout",
     "output_type": "stream",
     "text": [
      "(0.7071067811865476+0j) : |00>\n",
      "0j : |01>\n",
      "0j : |10>\n",
      "(0.7071067811865475+0j) : |11>\n"
     ]
    }
   ],
   "source": [
    "q = QuantumRegister(2)\n",
    "c = ClassicalRegister(2)\n",
    "qc = QuantumCircuit(q, c)\n",
    "\n",
    "qc.h(0)\n",
    "qc.cx(0, 1)\n",
    "\n",
    "show_result(qc)"
   ]
  },
  {
   "cell_type": "markdown",
   "metadata": {
    "ExecuteTime": {
     "end_time": "2020-05-26T11:31:19.945667Z",
     "start_time": "2020-05-26T11:31:19.940557Z"
    }
   },
   "source": [
    "### Q2. Create state \n",
    "$$|\\psi_0\\rangle = \\frac{|01\\rangle + |10\\rangle}{\\sqrt{2}}$$"
   ]
  },
  {
   "cell_type": "code",
   "execution_count": 6,
   "metadata": {},
   "outputs": [
    {
     "name": "stdout",
     "output_type": "stream",
     "text": [
      "0j : |00>\n",
      "(0.7071067811865476+0j) : |01>\n",
      "(0.7071067811865475+0j) : |10>\n",
      "0j : |11>\n"
     ]
    }
   ],
   "source": [
    "q = QuantumRegister(2)\n",
    "c = ClassicalRegister(2)\n",
    "qc = QuantumCircuit(q, c)\n",
    "\n",
    "qc.h(0)\n",
    "qc.cx(0, 1)\n",
    "qc.x(0)\n",
    "\n",
    "show_result(qc)"
   ]
  },
  {
   "cell_type": "markdown",
   "metadata": {},
   "source": [
    "### Q3. Validate CHSH inequality (A little bit advanced)\n",
    "What is CHSH inequality? https://en.wikipedia.org/wiki/CHSH_inequality  \n",
    "Briefly, CHSH inequality is a proof of bell's theorem.   \n",
    "Usually, CHSH inequality satisfies\n",
    "$$|\\langle{A, B}\\rangle-\\langle{a, B}\\rangle+\\langle{A, b}\\rangle + \\langle{a, b}\\rangle| \\leq 2$$  \n",
    "in a classical system. However, in a quantum system, this inequality satisfies\n",
    "$$2 < |\\langle{A, B}\\rangle-\\langle{a, B}\\rangle+\\langle{A, b}\\rangle + \\langle{a, b}\\rangle|\\leq2\\sqrt{2}$$  \n",
    "A, B, a, b represent the basis of measurement."
   ]
  },
  {
   "cell_type": "markdown",
   "metadata": {},
   "source": [
    "#### First step (prepare quantum circuit)\n",
    "We need two qubits to simulate CHSH inequality."
   ]
  },
  {
   "cell_type": "code",
   "execution_count": 7,
   "metadata": {},
   "outputs": [],
   "source": [
    "q = QuantumRegister(2)\n",
    "c = ClassicalRegister(2)\n",
    "qc = QuantumCircuit(q, c)"
   ]
  },
  {
   "cell_type": "markdown",
   "metadata": {},
   "source": [
    "#### Second step (prepare bell state)\n",
    "Bell state is one of the most important quantum states. There are four types of bell states.\n",
    "$$|\\psi^{+}\\rangle = \\frac{|00\\rangle+|11\\rangle}{\\sqrt{2}}$$\n",
    "$$|\\psi^{-}\\rangle = \\frac{|00\\rangle-|11\\rangle}{\\sqrt{2}}$$\n",
    "$$|\\phi^{+}\\rangle = \\frac{|01\\rangle+|10\\rangle}{\\sqrt{2}}$$\n",
    "$$|\\phi^{-}\\rangle = \\frac{|01\\rangle-|10\\rangle}{\\sqrt{2}}$$\n",
    "Choose one of them and prepare it on the circuit."
   ]
  },
  {
   "cell_type": "code",
   "execution_count": 8,
   "metadata": {},
   "outputs": [
    {
     "name": "stdout",
     "output_type": "stream",
     "text": [
      "(0.7071067811865476+0j) : |00>\n",
      "0j : |01>\n",
      "0j : |10>\n",
      "(0.7071067811865475+0j) : |11>\n"
     ]
    }
   ],
   "source": [
    "# The first one, because we already did that in Q1\n",
    "qc.h(0)\n",
    "qc.cx(0, 1)\n",
    "\n",
    "show_result(qc)"
   ]
  },
  {
   "cell_type": "markdown",
   "metadata": {},
   "source": [
    "#### Third step (Measurement basis)\n",
    "Prepare four measurement basis.  \n",
    "A = Z  \n",
    "a = X  \n",
    "B = $\\frac{Z+X}{\\sqrt{2}}$  \n",
    "b = $\\frac{Z-X}{\\sqrt{2}}$  \n",
    "In the qiskit, measurement basis is Z if you don't apply any operations.\n",
    "To change the measurement basis, you need to apply operations before measurement.  \n",
    "Hint: This is the basis of B\n",
    "![Bbasis](./image/Bbasis.png)\n",
    "You have to calculate one state with four basis.\n",
    "Fill this table.\n",
    "\n",
    "|Basis\\Outcome |$P(|00\\rangle)$ | $P(|01\\rangle)$ | $P(|10\\rangle)$ | $P(|11\\rangle)$ |\n",
    "|-------------|----------------------|----------------------|----------------------| ----------------------|\n",
    "| AB         |                      |                      |                     |                      |\n",
    "| aB          |                      |                     |                      |                      |\n",
    "| Ab         |                      |                      |                      |                      |\n",
    "| ab          |                     |                      |                      |                      |"
   ]
  },
  {
   "cell_type": "code",
   "execution_count": null,
   "metadata": {},
   "outputs": [],
   "source": [
    "# AB (A = Z, B = described above)\n",
    "\n",
    "# aB (a = X, B = described above)\n",
    "\n",
    "# Ab (A = Z, b = (Z - X)/sqrt(2))\n",
    "\n",
    "# ab (a = X, b = (Z - X)/sqrt(2))"
   ]
  },
  {
   "cell_type": "markdown",
   "metadata": {},
   "source": [
    "#### Final step (Calculate S value)\n",
    "Finally, we need to calculate S value.\n",
    "If you chose $|\\psi^+\\rangle$ or  $|\\psi^-\\rangle$, calculate $$\\langle{MN}\\rangle =  P(|00\\rangle)+P(|11\\rangle)-P(|01\\rangle)-P(|10\\rangle)$$   \n",
    "else you chose $|\\phi^+\\rangle$ or $|\\phi^+\\rangle$, then you need to  \n",
    "$$\\langle{MN}\\rangle = P(|01\\rangle)+P(|10\\rangle)-P(|00\\rangle)-P(|11\\rangle)$$\n",
    "for each of basis.\n",
    "And $$S = |\\langle{AB}\\rangle-\\langle{aB}\\rangle+\\langle{Ab}\\rangle+\\langle{ab}\\rangle|$$"
   ]
  },
  {
   "cell_type": "code",
   "execution_count": null,
   "metadata": {},
   "outputs": [],
   "source": []
  }
 ],
 "metadata": {
  "jupytext": {
   "text_representation": {
    "extension": ".py",
    "format_name": "light",
    "format_version": "1.5",
    "jupytext_version": "1.4.2"
   }
  },
  "kernelspec": {
   "display_name": "Python 3",
   "language": "python",
   "name": "python3"
  },
  "language_info": {
   "codemirror_mode": {
    "name": "ipython",
    "version": 3
   },
   "file_extension": ".py",
   "mimetype": "text/x-python",
   "name": "python",
   "nbconvert_exporter": "python",
   "pygments_lexer": "ipython3",
   "version": "3.7.3"
  },
  "varInspector": {
   "cols": {
    "lenName": 16,
    "lenType": 16,
    "lenVar": 40
   },
   "kernels_config": {
    "python": {
     "delete_cmd_postfix": "",
     "delete_cmd_prefix": "del ",
     "library": "var_list.py",
     "varRefreshCmd": "print(var_dic_list())"
    },
    "r": {
     "delete_cmd_postfix": ") ",
     "delete_cmd_prefix": "rm(",
     "library": "var_list.r",
     "varRefreshCmd": "cat(var_dic_list()) "
    }
   },
   "types_to_exclude": [
    "module",
    "function",
    "builtin_function_or_method",
    "instance",
    "_Feature"
   ],
   "window_display": false
  },
  "widgets": {
   "application/vnd.jupyter.widget-state+json": {
    "state": {},
    "version_major": 2,
    "version_minor": 0
   }
  }
 },
 "nbformat": 4,
 "nbformat_minor": 4
}
