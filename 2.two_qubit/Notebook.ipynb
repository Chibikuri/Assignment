{
 "cells": [
  {
   "cell_type": "markdown",
   "metadata": {},
   "source": [
    "# Two qubit operations"
   ]
  },
  {
   "cell_type": "code",
   "execution_count": 1,
   "metadata": {
    "ExecuteTime": {
     "end_time": "2020-05-27T08:12:29.836778Z",
     "start_time": "2020-05-27T08:12:26.748454Z"
    }
   },
   "outputs": [
    {
     "ename": "ModuleNotFoundError",
     "evalue": "No module named 'numpy.core._multiarray_umath'",
     "output_type": "error",
     "traceback": [
      "\u001b[0;31m---------------------------------------------------------------------------\u001b[0m",
      "\u001b[0;31mModuleNotFoundError\u001b[0m                       Traceback (most recent call last)",
      "\u001b[0;31mModuleNotFoundError\u001b[0m: No module named 'numpy.core._multiarray_umath'"
     ]
    }
   ],
   "source": [
    "from qiskit import (QuantumCircuit,\n",
    "                        QuantumRegister,\n",
    "                        ClassicalRegister,\n",
    "                        execute,\n",
    "                        Aer)\n",
    "import numpy as np\n",
    "from qiskit.visualization import plot_histogram"
   ]
  },
  {
   "cell_type": "code",
   "execution_count": 2,
   "metadata": {
    "ExecuteTime": {
     "end_time": "2020-05-27T08:15:44.489771Z",
     "start_time": "2020-05-27T08:15:44.484720Z"
    }
   },
   "outputs": [
    {
     "name": "stdout",
     "output_type": "stream",
     "text": [
      "        ┌─────────────────────────────┐\n",
      "q_0: |0>┤ Initialize(0.70711,0.70711) ├\n",
      "        └─────────────────────────────┘\n",
      "        ┌──────────────┐\n",
      "q_0: |0>┤ U3(pi/2,0,0) ├\n",
      "        └──────────────┘\n"
     ]
    }
   ],
   "source": [
    "from qiskit import transpile\n",
    "qc = QuantumCircuit(1)\n",
    "qc.initialize([1/np.sqrt(2), 1/np.sqrt(2)], 0)\n",
    "print(qc)\n",
    "new_qc = transpile(qc, basis_gates=[\"cx\", \"u3\"])\n",
    "print(new_qc)"
   ]
  },
  {
   "cell_type": "code",
   "execution_count": 3,
   "metadata": {
    "ExecuteTime": {
     "end_time": "2020-05-26T13:10:12.265465Z",
     "start_time": "2020-05-26T13:10:12.260507Z"
    },
    "code_folding": [],
    "pycharm": {
     "name": "#%%\n"
    }
   },
   "outputs": [],
   "source": [
    "def show_result(qc, histogram = False):\n",
    "    job = execute(qc, backend = Aer.get_backend(\"statevector_simulator\"))\n",
    "    vec = job.result().get_statevector(qc)\n",
    "    \n",
    "    bins = [format(i, '0%db'%np.ceil(np.log2(len(vec)))) for i, _ in enumerate(vec)]\n",
    "    for i, j in zip(vec, bins):\n",
    "        print(i, \": |%s>\"%str(j))\n",
    "    if histogram:\n",
    "        display(plot_histogram(job.result().get_counts()))\n",
    "        display(qc.draw(output = 'mpl'))"
   ]
  },
  {
   "cell_type": "markdown",
   "metadata": {
    "pycharm": {
     "name": "#%% md\n"
    }
   },
   "source": [
    "### Q1. Create state \n",
    "$$|\\psi_0\\rangle = \\frac{|00\\rangle + |11\\rangle}{\\sqrt{2}}$$"
   ]
  },
  {
   "cell_type": "code",
   "execution_count": 4,
   "metadata": {
    "ExecuteTime": {
     "end_time": "2020-05-26T13:10:12.678363Z",
     "start_time": "2020-05-26T13:10:12.654316Z"
    },
    "pycharm": {
     "name": "#%%\n"
    }
   },
   "outputs": [
    {
     "name": "stdout",
     "output_type": "stream",
     "text": [
      "(0.7071067811865476+0j) : |00>\n",
      "0j : |01>\n",
      "0j : |10>\n",
      "(0.7071067811865475+0j) : |11>\n"
     ]
    }
   ],
   "source": [
    "qc = QuantumCircuit(2, 2)\n",
    "\n",
    "qc.h(0)\n",
    "qc.cx(0, 1)\n",
    "\n",
    "show_result(qc)"
   ]
  },
  {
   "cell_type": "markdown",
   "metadata": {
    "ExecuteTime": {
     "end_time": "2020-05-26T11:31:19.945667Z",
     "start_time": "2020-05-26T11:31:19.940557Z"
    },
    "pycharm": {
     "name": "#%% md\n"
    }
   },
   "source": [
    "### Q2. Create state \n",
    "$$|\\psi_0\\rangle = \\frac{|01\\rangle + |10\\rangle}{\\sqrt{2}}$$"
   ]
  },
  {
   "cell_type": "code",
   "execution_count": 5,
   "metadata": {
    "pycharm": {
     "name": "#%%\n"
    }
   },
   "outputs": [
    {
     "name": "stdout",
     "output_type": "stream",
     "text": [
      "0j : |00>\n",
      "(0.7071067811865476+0j) : |01>\n",
      "(0.7071067811865475+0j) : |10>\n",
      "0j : |11>\n"
     ]
    }
   ],
   "source": [
    "q = QuantumRegister(2)\n",
    "c = ClassicalRegister(2)\n",
    "qc = QuantumCircuit(q, c)\n",
    "\n",
    "qc.h(0)\n",
    "qc.cx(0, 1)\n",
    "qc.x(0)\n",
    "\n",
    "show_result(qc)"
   ]
  },
  {
   "cell_type": "markdown",
   "metadata": {},
   "source": [
    "### Q3. Validate CHSH inequality (A little bit advanced)\n",
    "What is CHSH inequality? https://en.wikipedia.org/wiki/CHSH_inequality  \n",
    "Briefly, CHSH inequality is a proof of bell's theorem.   \n",
    "Usually, CHSH inequality satisfies\n",
    "$$|\\langle{A, B}\\rangle-\\langle{a, B}\\rangle+\\langle{A, b}\\rangle + \\langle{a, b}\\rangle| \\leq 2$$  \n",
    "in a classical system. However, in a quantum system, this inequality satisfies\n",
    "$$2 < |\\langle{A, B}\\rangle-\\langle{a, B}\\rangle+\\langle{A, b}\\rangle + \\langle{a, b}\\rangle|\\leq2\\sqrt{2}$$  \n",
    "A, B, a, b represent the basis of measurement."
   ]
  },
  {
   "cell_type": "markdown",
   "metadata": {
    "pycharm": {
     "name": "#%% md\n"
    }
   },
   "source": [
    "#### First step (prepare quantum circuit)\n",
    "We need two qubits to simulate CHSH inequality."
   ]
  },
  {
   "cell_type": "code",
   "execution_count": 6,
   "metadata": {
    "pycharm": {
     "name": "#%%\n"
    }
   },
   "outputs": [],
   "source": [
    "def create_qc():\n",
    "    qc = QuantumCircuit(2, 2)\n",
    "    qc.h(0)\n",
    "    qc.cx(0, 1)\n",
    "    ## you cannot measure here because if you measure here, you cannot change the measurement basis  \n",
    "#     qc.measure(0, 0)\n",
    "    return qc"
   ]
  },
  {
   "cell_type": "markdown",
   "metadata": {
    "pycharm": {
     "name": "#%% md\n"
    }
   },
   "source": [
    "#### Second step (prepare bell state)\n",
    "Bell state is one of the most important quantum states. There are four types of bell states.\n",
    "$$|\\Phi^{+}\\rangle = \\frac{|00\\rangle+|11\\rangle}{\\sqrt{2}}$$\n",
    "$$|\\Phi^{-}\\rangle = \\frac{|00\\rangle-|11\\rangle}{\\sqrt{2}}$$\n",
    "$$|\\Psi^{+}\\rangle = \\frac{|01\\rangle+|10\\rangle}{\\sqrt{2}}$$\n",
    "$$|\\Psi^{-}\\rangle = \\frac{|01\\rangle-|10\\rangle}{\\sqrt{2}}$$\n",
    "Choose one of them and prepare it on the circuit."
   ]
  },
  {
   "cell_type": "code",
   "execution_count": 7,
   "metadata": {
    "pycharm": {
     "name": "#%%\n"
    }
   },
   "outputs": [
    {
     "name": "stdout",
     "output_type": "stream",
     "text": [
      "(0.7071067811865476+0j) : |00>\n",
      "0j : |01>\n",
      "0j : |10>\n",
      "(0.7071067811865475+0j) : |11>\n"
     ]
    }
   ],
   "source": [
    "# The first one, because we already did that in Q1\n",
    "show_result(create_qc())"
   ]
  },
  {
   "cell_type": "markdown",
   "metadata": {
    "pycharm": {
     "name": "#%% md\n"
    }
   },
   "source": [
    "#### Third step (Measurement basis)\n",
    "Prepare four measurement basis.  \n",
    "A = Z  \n",
    "a = X  \n",
    "B = $\\frac{Z+X}{\\sqrt{2}}$  \n",
    "b = $\\frac{Z-X}{\\sqrt{2}}$  \n",
    "In the qiskit, measurement basis is Z if you don't apply any operations.\n",
    "To change the measurement basis, you need to apply operations before measurement.  \n",
    "Hint: This is the basis of B\n",
    "![Bbasis](./image/Bbasis.png)\n",
    "You have to calculate one state with four basis.\n",
    "Fill this table.\n",
    "\n",
    "|Basis\\Outcome |$P(|00\\rangle)$ | $P(|01\\rangle)$ | $P(|10\\rangle)$ | $P(|11\\rangle)$ |\n",
    "|-------------|----------------------|----------------------|----------------------| ----------------------|\n",
    "| AB          | 0.5                  | 0                    | 0                    | 0.5                   |\n",
    "| aB          | 0.125                | 0.5                  | 0.250                | 0.125                 |\n",
    "| Ab          | 0.25                 | 0                    | 0                    | 0.750                 |\n",
    "| ab          | 0                    | 0.375                | 0.625                | 0                     |"
   ]
  },
  {
   "cell_type": "markdown",
   "metadata": {},
   "source": [
    "## Construct quantum circuit"
   ]
  },
  {
   "cell_type": "markdown",
   "metadata": {},
   "source": [
    "![](https://i.stack.imgur.com/onVh9.png)\n",
    "https://quantumcomputing.stackexchange.com/questions/7142/in-the-chsh-inequality-how-can-i-know-which-term-is-supposed-to-have-the-minus"
   ]
  },
  {
   "cell_type": "code",
   "execution_count": 8,
   "metadata": {},
   "outputs": [],
   "source": [
    "# define qasm simulator\n",
    "backend = Aer.get_backend(\"qasm_simulator\")\n",
    "\n",
    "# number of shots\n",
    "shots = 100000\n",
    "\n",
    "# binary number list for sorting the counts\n",
    "bin=['00', '01', '10', '11'] "
   ]
  },
  {
   "cell_type": "markdown",
   "metadata": {},
   "source": [
    "### 1. Circuit for AB"
   ]
  },
  {
   "cell_type": "code",
   "execution_count": 9,
   "metadata": {
    "scrolled": false
   },
   "outputs": [
    {
     "data": {
      "image/png": "[encoded data removed]",
      "text/plain": [
       "<Figure size 698.32x204.68 with 1 Axes>"
      ]
     },
     "execution_count": 9,
     "metadata": {},
     "output_type": "execute_result"
    }
   ],
   "source": [
    "###################################\n",
    "# create circuit AB\n",
    "###################################\n",
    "\n",
    "# here create the bell state(phi+)\n",
    "qc = create_qc()\n",
    "\n",
    "# A\n",
    "# qc.z(1)\n",
    "\n",
    "# B\n",
    "qc.s(1)\n",
    "qc.h(1)\n",
    "qc.t(1)\n",
    "qc.h(1)\n",
    "qc.barrier()\n",
    "\n",
    "# Measurement\n",
    "qc.measure(0, 0)\n",
    "qc.measure(1, 1)\n",
    "\n",
    "# show the qc\n",
    "qc.draw(output='mpl')"
   ]
  },
  {
   "cell_type": "code",
   "execution_count": 10,
   "metadata": {},
   "outputs": [
    {
     "name": "stdout",
     "output_type": "stream",
     "text": [
      "counts =  {'00': 42897, '01': 7329, '10': 7231, '11': 42543}\n",
      "\n",
      "Expected value of AB : 0.708800\n"
     ]
    }
   ],
   "source": [
    "# Show the result\n",
    "counts_AB = execute(qc, backend, shots=shots).result().get_counts()\n",
    "print(\"counts = \", counts_AB)\n",
    "\n",
    "# Estimation value of AB\n",
    "# sort and normalize\n",
    "AB = [counts_AB[i]/shots for i in bin] \n",
    "E_AB = AB[0] - AB[1] - AB[2] + AB[3] # where ;  ⟨𝐴𝐵⟩=p(|00>) - p(|01>) − p(|10>) + p(|11>)\n",
    "print(\"\\nExpected value of AB : %f\" % E_AB)"
   ]
  },
  {
   "cell_type": "code",
   "execution_count": 11,
   "metadata": {},
   "outputs": [
    {
     "data": {
      "image/png": "[encoded data removed]",
      "text/plain": [
       "<Figure size 504x360 with 1 Axes>"
      ]
     },
     "execution_count": 11,
     "metadata": {},
     "output_type": "execute_result"
    }
   ],
   "source": [
    "plot_histogram(counts_AB, title=\"result of circuit AB\")"
   ]
  },
  {
   "cell_type": "markdown",
   "metadata": {},
   "source": [
    "### 2. Circuit for Ab"
   ]
  },
  {
   "cell_type": "code",
   "execution_count": 12,
   "metadata": {},
   "outputs": [
    {
     "data": {
      "image/png": "[encoded data removed]",
      "text/plain": [
       "<Figure size 698.32x204.68 with 1 Axes>"
      ]
     },
     "execution_count": 12,
     "metadata": {},
     "output_type": "execute_result"
    }
   ],
   "source": [
    "###################################\n",
    "# create circuit Ab\n",
    "###################################\n",
    "\n",
    "# here create the bell state(phi+)\n",
    "qc = create_qc()\n",
    "\n",
    "# A\n",
    "\n",
    "# b\n",
    "qc.s(1)\n",
    "qc.h(1)\n",
    "qc.tdg(1)\n",
    "qc.h(1)\n",
    "qc.barrier()\n",
    "\n",
    "# Measurement\n",
    "qc.measure(0, 0)\n",
    "qc.measure(1, 1)\n",
    "\n",
    "# show the qc\n",
    "qc.draw(output='mpl')"
   ]
  },
  {
   "cell_type": "code",
   "execution_count": 13,
   "metadata": {},
   "outputs": [
    {
     "name": "stdout",
     "output_type": "stream",
     "text": [
      "counts =  {'00': 42626, '01': 7383, '10': 7444, '11': 42547}\n",
      "\n",
      "Expected value of Ab : 0.703460\n"
     ]
    }
   ],
   "source": [
    "# get counts from execution\n",
    "counts_Ab = execute(qc, backend, shots=shots).result().get_counts()\n",
    "print(\"counts = \", counts_Ab)\n",
    "\n",
    "# Estimation value of Ab\n",
    "# sort and normalize \n",
    "Ab = [counts_Ab[i]/shots for i in bin] \n",
    "E_Ab = Ab[0] - Ab[1] - Ab[2] + Ab[3] # where ;  ⟨Ab⟩=p(|00>) - p(|01>) − p(|10>) + p(|11>)\n",
    "print(\"\\nExpected value of Ab : %f\" % E_Ab)"
   ]
  },
  {
   "cell_type": "code",
   "execution_count": 14,
   "metadata": {
    "scrolled": true
   },
   "outputs": [
    {
     "data": {
      "image/png": "[encoded data removed]",
      "text/plain": [
       "<Figure size 504x360 with 1 Axes>"
      ]
     },
     "execution_count": 14,
     "metadata": {},
     "output_type": "execute_result"
    }
   ],
   "source": [
    "plot_histogram(counts_Ab, title=\"result of circuit Ab\")"
   ]
  },
  {
   "cell_type": "markdown",
   "metadata": {},
   "source": [
    "### 3. Circuit for aB"
   ]
  },
  {
   "cell_type": "code",
   "execution_count": 15,
   "metadata": {},
   "outputs": [
    {
     "data": {
      "image/png": "[encoded data removed]",
      "text/plain": [
       "<Figure size 698.32x204.68 with 1 Axes>"
      ]
     },
     "execution_count": 15,
     "metadata": {},
     "output_type": "execute_result"
    }
   ],
   "source": [
    "###################################\n",
    "# create circuit aB\n",
    "###################################\n",
    "\n",
    "# here create the bell state(phi+)\n",
    "qc = create_qc()\n",
    "\n",
    "# a\n",
    "qc.h(0)\n",
    "\n",
    "# B\n",
    "qc.s(1)\n",
    "qc.h(1)\n",
    "qc.t(1)\n",
    "qc.h(1)\n",
    "qc.barrier()\n",
    "\n",
    "# Measurement\n",
    "qc.measure(0, 0)\n",
    "qc.measure(1, 1)\n",
    "\n",
    "# show the qc\n",
    "qc.draw(output='mpl')"
   ]
  },
  {
   "cell_type": "code",
   "execution_count": 16,
   "metadata": {},
   "outputs": [
    {
     "name": "stdout",
     "output_type": "stream",
     "text": [
      "counts =  {'00': 42734, '01': 7212, '10': 7394, '11': 42660}\n",
      "\n",
      "Expected value of Ab : 0.707880\n"
     ]
    }
   ],
   "source": [
    "# get counts from execution\n",
    "counts_aB = execute(qc, backend, shots=shots).result().get_counts()\n",
    "print(\"counts = \", counts_aB)\n",
    "\n",
    "# Estimation value of aB\n",
    "# sort and normalize\n",
    "aB = [counts_aB[i]/shots for i in bin] \n",
    "E_aB = aB[0] - aB[1] - aB[2] + aB[3] # where ;  ⟨a𝐵⟩=p(|00>) - p(|01>) − p(|10>) + p(|11>)\n",
    "print(\"\\nExpected value of Ab : %f\" % E_aB)"
   ]
  },
  {
   "cell_type": "code",
   "execution_count": 17,
   "metadata": {},
   "outputs": [
    {
     "data": {
      "image/png": "[encoded data removed]",
      "text/plain": [
       "<Figure size 504x360 with 1 Axes>"
      ]
     },
     "execution_count": 17,
     "metadata": {},
     "output_type": "execute_result"
    }
   ],
   "source": [
    "plot_histogram(counts_aB, title=\"result of circuit aB\")"
   ]
  },
  {
   "cell_type": "markdown",
   "metadata": {},
   "source": [
    "### 4. Circuit for ab"
   ]
  },
  {
   "cell_type": "code",
   "execution_count": 18,
   "metadata": {},
   "outputs": [
    {
     "data": {
      "image/png": "[encoded data removed]",
      "text/plain": [
       "<Figure size 698.32x204.68 with 1 Axes>"
      ]
     },
     "execution_count": 18,
     "metadata": {},
     "output_type": "execute_result"
    }
   ],
   "source": [
    "###################################\n",
    "# create circuit ab\n",
    "###################################\n",
    "\n",
    "# here create the bell state(phi+)\n",
    "qc = create_qc()\n",
    "\n",
    "# a\n",
    "qc.h(0)\n",
    "\n",
    "# b\n",
    "qc.s(1)\n",
    "qc.h(1)\n",
    "qc.tdg(1)\n",
    "qc.h(1)\n",
    "qc.barrier()\n",
    "\n",
    "# Measurement\n",
    "qc.measure(0, 0)\n",
    "qc.measure(1, 1)\n",
    "\n",
    "# show the qc\n",
    "qc.draw(output='mpl')"
   ]
  },
  {
   "cell_type": "code",
   "execution_count": 19,
   "metadata": {},
   "outputs": [
    {
     "name": "stdout",
     "output_type": "stream",
     "text": [
      "counts =  {'00': 7268, '01': 42612, '10': 42616, '11': 7504}\n",
      "\n",
      "Expected value of Ab : -0.704560\n"
     ]
    }
   ],
   "source": [
    "# get counts from execution\n",
    "counts_ab = execute(qc, backend, shots=shots).result().get_counts()\n",
    "print(\"counts = \", counts_ab)\n",
    "\n",
    "# Estimation value of ab\n",
    "# sort and normalize\n",
    "ab = [counts_ab[i]/shots for i in bin] \n",
    "E_ab = ab[0] - ab[1] - ab[2] + ab[3] # where ;  ⟨ab⟩=p(|00>) - p(|01>) − p(|10>) + p(|11>)\n",
    "print(\"\\nExpected value of Ab : %f\" % E_ab)"
   ]
  },
  {
   "cell_type": "code",
   "execution_count": 20,
   "metadata": {},
   "outputs": [
    {
     "data": {
      "image/png": "[encoded data removed]",
      "text/plain": [
       "<Figure size 504x360 with 1 Axes>"
      ]
     },
     "execution_count": 20,
     "metadata": {},
     "output_type": "execute_result"
    }
   ],
   "source": [
    "plot_histogram(counts_ab, title=\"result of circuit ab\")"
   ]
  },
  {
   "cell_type": "markdown",
   "metadata": {
    "pycharm": {
     "name": "#%% md\n"
    }
   },
   "source": [
    "### Calculate S value"
   ]
  },
  {
   "cell_type": "code",
   "execution_count": 21,
   "metadata": {
    "pycharm": {
     "name": "#%%\n"
    }
   },
   "outputs": [
    {
     "name": "stdout",
     "output_type": "stream",
     "text": [
      "2.8246999999999995\n"
     ]
    }
   ],
   "source": [
    "# calculate S value\n",
    "print(abs(E_AB + E_Ab+ E_aB - E_ab))"
   ]
  },
  {
   "cell_type": "code",
   "execution_count": 22,
   "metadata": {},
   "outputs": [
    {
     "name": "stdout",
     "output_type": "stream",
     "text": [
      "2.8284271247461903\n"
     ]
    }
   ],
   "source": [
    "# Show 2√2\n",
    "print(2*np.sqrt(2))"
   ]
  }
 ],
 "metadata": {
  "jupytext": {
   "text_representation": {
    "extension": ".py",
    "format_name": "light",
    "format_version": "1.5",
    "jupytext_version": "1.4.2"
   }
  },
  "kernelspec": {
   "display_name": "Python 3",
   "language": "python",
   "name": "python3"
  },
  "language_info": {
   "codemirror_mode": {
    "name": "ipython",
    "version": 3
   },
   "file_extension": ".py",
   "mimetype": "text/x-python",
   "name": "python",
   "nbconvert_exporter": "python",
   "pygments_lexer": "ipython3",
   "version": "3.7.1"
  },
  "varInspector": {
   "cols": {
    "lenName": 16,
    "lenType": 16,
    "lenVar": 40
   },
   "kernels_config": {
    "python": {
     "delete_cmd_postfix": "",
     "delete_cmd_prefix": "del ",
     "library": "var_list.py",
     "varRefreshCmd": "print(var_dic_list())"
    },
    "r": {
     "delete_cmd_postfix": ") ",
     "delete_cmd_prefix": "rm(",
     "library": "var_list.r",
     "varRefreshCmd": "cat(var_dic_list()) "
    }
   },
   "types_to_exclude": [
    "module",
    "function",
    "builtin_function_or_method",
    "instance",
    "_Feature"
   ],
   "window_display": false
  },
  "widgets": {
   "application/vnd.jupyter.widget-state+json": {
    "state": {},
    "version_major": 2,
    "version_minor": 0
   }
  }
 },
 "nbformat": 4,
 "nbformat_minor": 4
}