{
 "cells": [
  {
   "cell_type": "markdown",
   "metadata": {},
   "source": [
    "# Simulation of Quantum Teleportation"
   ]
  },
  {
   "cell_type": "markdown",
   "metadata": {},
   "source": [
    ">Quantum teleportation is a process in which quantum information (e.g. the exact state of an atom or photon) can be transmitted (exactly, in principle) from one location to another, with the help of classical communication and previously shared quantum entanglement between the sending and receiving location. \n",
    "\n",
    "(from[ Wikipedia](https://en.wikipedia.org/wiki/Quantum_teleportation))\n",
    "\n",
    "\n",
    "Quantum teleportation is a fundamental quantum algorithm used for quantum communication."
   ]
  },
  {
   "cell_type": "markdown",
   "metadata": {},
   "source": [
    "Let's try to simulate quantum teleportation between two people."
   ]
  },
  {
   "cell_type": "markdown",
   "metadata": {},
   "source": [
    "### Simulate teleportation circuit and visualize."
   ]
  },
  {
   "cell_type": "markdown",
   "metadata": {},
   "source": [
    "#### 0. Qubit preparation\n",
    "First, let's start the simplest one. (sending just one qubit information from Alice to Bob)  \n",
    "Alice: Two qubit  \n",
    "Bob: One qubits\n",
    "$$|\\psi_0\\rangle = |000\\rangle = |00\\rangle_{alice}|0\\rangle_{bob}$$"
   ]
  },
  {
   "cell_type": "code",
   "execution_count": 46,
   "metadata": {},
   "outputs": [],
   "source": [
    "from qiskit import (QuantumCircuit,\n",
    "                        QuantumRegister,\n",
    "                        ClassicalRegister,\n",
    "                        execute,\n",
    "                        Aer)\n",
    "\n",
    "from qiskit.visualization import plot_histogram\n",
    "\n",
    "cr = ClassicalRegister(3)\n",
    "# Alice gets 0, 1\n",
    "# Bob gets 2\n",
    "qc = QuantumCircuit(QuantumRegister(3), cr)"
   ]
  },
  {
   "cell_type": "markdown",
   "metadata": {},
   "source": [
    "#### 1. Bell pair creation before sharing information.\n",
    "Create bell pair between Alice's second qubit and Bob's qubit.\n",
    "$$|\\psi_1\\rangle=|0\\rangle\\bigg(\\frac{|00\\rangle+|11\\rangle}{\\sqrt{2}}\\bigg)$$"
   ]
  },
  {
   "cell_type": "code",
   "execution_count": 47,
   "metadata": {},
   "outputs": [
    {
     "data": {
      "text/plain": [
       "<qiskit.circuit.instructionset.InstructionSet at 0x12c42c160>"
      ]
     },
     "execution_count": 47,
     "metadata": {},
     "output_type": "execute_result"
    }
   ],
   "source": [
    "qc.h(1)\n",
    "qc.cx(1, 2)"
   ]
  },
  {
   "cell_type": "markdown",
   "metadata": {},
   "source": [
    "#### 2.  State preparation\n",
    "Alice have to prepare a quantum state.  Apply an operation to Alice's first qubit.\n",
    "$$|\\psi_2\\rangle=(\\alpha|0\\rangle + \\beta|1\\rangle)\\bigg(\\frac{|00\\rangle+|11\\rangle}{\\sqrt{2}}\\bigg) = \\frac{1}{\\sqrt{2}}(\\alpha|000\\rangle + \\alpha|011\\rangle+\\beta|100\\rangle + \\beta|111\\rangle)$$"
   ]
  },
  {
   "cell_type": "code",
   "execution_count": 48,
   "metadata": {},
   "outputs": [
    {
     "data": {
      "text/html": [
       "<pre style=\"word-wrap: normal;white-space: pre;background: #fff0;line-height: 1.1;font-family: &quot;Courier New&quot;,Courier,monospace\">      ┌───┐     \n",
       "q3_0: ┤ H ├─────\n",
       "      ├───┤     \n",
       "q3_1: ┤ H ├──■──\n",
       "      └───┘┌─┴─┐\n",
       "q3_2: ─────┤ X ├\n",
       "           └───┘\n",
       "c4_0: ══════════\n",
       "                \n",
       "c4_1: ══════════\n",
       "                \n",
       "c4_2: ══════════\n",
       "                </pre>"
      ],
      "text/plain": [
       "      ┌───┐     \n",
       "q3_0: ┤ H ├─────\n",
       "      ├───┤     \n",
       "q3_1: ┤ H ├──■──\n",
       "      └───┘┌─┴─┐\n",
       "q3_2: ─────┤ X ├\n",
       "           └───┘\n",
       "c4_0: ══════════\n",
       "                \n",
       "c4_1: ══════════\n",
       "                \n",
       "c4_2: ══════════\n",
       "                "
      ]
     },
     "execution_count": 48,
     "metadata": {},
     "output_type": "execute_result"
    }
   ],
   "source": [
    "qc.h(0)\n",
    "qc.draw()"
   ]
  },
  {
   "cell_type": "markdown",
   "metadata": {},
   "source": [
    "#### 3. Apply CX and H\n",
    "Applying CX gate from Alice's first qubit and second qubit.\n",
    "$$|\\psi_3\\rangle = CX^{0, 1}|\\psi_2\\rangle  = \\frac{1}{\\sqrt{2}}(\\alpha|000\\rangle + \\alpha|011\\rangle+\\beta|110\\rangle+\\beta|101\\rangle)$$\n",
    "And then, apply H gate to first qubit .\n",
    "$$|\\psi_3'\\rangle = H^0|\\psi_3\\rangle  = \\frac{1}{\\sqrt{2}}(\\alpha|+\\rangle(|00\\rangle +|11\\rangle)+\\beta|-\\rangle(|10\\rangle+|01\\rangle))$$"
   ]
  },
  {
   "cell_type": "code",
   "execution_count": 49,
   "metadata": {},
   "outputs": [
    {
     "data": {
      "text/html": [
       "<pre style=\"word-wrap: normal;white-space: pre;background: #fff0;line-height: 1.1;font-family: &quot;Courier New&quot;,Courier,monospace\">      ┌───┐          ┌───┐\n",
       "q3_0: ┤ H ├───────■──┤ H ├\n",
       "      ├───┤     ┌─┴─┐└───┘\n",
       "q3_1: ┤ H ├──■──┤ X ├─────\n",
       "      └───┘┌─┴─┐└───┘     \n",
       "q3_2: ─────┤ X ├──────────\n",
       "           └───┘          \n",
       "c4_0: ════════════════════\n",
       "                          \n",
       "c4_1: ════════════════════\n",
       "                          \n",
       "c4_2: ════════════════════\n",
       "                          </pre>"
      ],
      "text/plain": [
       "      ┌───┐          ┌───┐\n",
       "q3_0: ┤ H ├───────■──┤ H ├\n",
       "      ├───┤     ┌─┴─┐└───┘\n",
       "q3_1: ┤ H ├──■──┤ X ├─────\n",
       "      └───┘┌─┴─┐└───┘     \n",
       "q3_2: ─────┤ X ├──────────\n",
       "           └───┘          \n",
       "c4_0: ════════════════════\n",
       "                          \n",
       "c4_1: ════════════════════\n",
       "                          \n",
       "c4_2: ════════════════════\n",
       "                          "
      ]
     },
     "execution_count": 49,
     "metadata": {},
     "output_type": "execute_result"
    }
   ],
   "source": [
    "qc.cx(0, 1)\n",
    "qc.h(0)\n",
    "qc.draw()"
   ]
  },
  {
   "cell_type": "markdown",
   "metadata": {},
   "source": [
    "#### 4. Measure first and second qubit.\n",
    "Before the measurement, the quantum state is,\n",
    "$$|\\psi_4\\rangle = \\frac{1}{2}\\big(|00\\rangle(\\alpha|0\\rangle+\\beta|1\\rangle) + |01\\rangle(\\alpha|1\\rangle+\\beta|0\\rangle) + \n",
    "|10\\rangle(\\alpha|0\\rangle-\\beta|1\\rangle) + \n",
    "|11\\rangle(\\alpha|1\\rangle-\\beta|0\\rangle)\\big)$$\n",
    "As you can see, the last qubit is almost the same as the state alice wanted to send. Accoding to the result of the measurement of the first and second qubits, we need to apply some operations to the third qubit.  \n",
    "If the measurement result is  \n",
    "$00$ then, apply nothing. (Just same as the original state)  \n",
    "$01$ then, apply X to third qubit (flipping 0 and 1)  \n",
    "$10$ then, apply Z to third qubit (flipping phase)  \n",
    "$11$ them apply X and Z to third qubit (flipping 0, 1 and phase)"
   ]
  },
  {
   "cell_type": "code",
   "execution_count": 52,
   "metadata": {},
   "outputs": [
    {
     "data": {
      "image/png": "[encoded data removed]",
      "text/plain": [
       "<Figure size 504x360 with 1 Axes>"
      ]
     },
     "execution_count": 52,
     "metadata": {},
     "output_type": "execute_result"
    }
   ],
   "source": [
    "qc.measure(0, 0)\n",
    "qc.measure(1, 1)\n",
    "\n",
    "qc.barrier()\n",
    "\n",
    "# 000 0\n",
    "# 001 1\n",
    "# 010 2\n",
    "# 011 3\n",
    "# 100 4\n",
    "# 101 5\n",
    "# 110 6\n",
    "# 111 7\n",
    "\n",
    "qc.x(2).c_if(cr, 2)\n",
    "qc.z(2).c_if(cr, 4)\n",
    "\n",
    "qc.x(2).c_if(cr, 6)\n",
    "qc.z(2).c_if(cr, 6)\n",
    "\n",
    "qc.draw()\n",
    "\n",
    "backend = Aer.get_backend(\"qasm_simulator\")\n",
    "counts = execute(qc, backend).result().get_counts()\n",
    "\n",
    "plot_histogram(counts)"
   ]
  },
  {
   "cell_type": "markdown",
   "metadata": {},
   "source": [
    "### Send more than 1 qubit information!"
   ]
  },
  {
   "cell_type": "code",
   "execution_count": null,
   "metadata": {},
   "outputs": [],
   "source": []
  }
 ],
 "metadata": {
  "jupytext": {
   "text_representation": {
    "extension": ".py",
    "format_name": "light",
    "format_version": "1.5",
    "jupytext_version": "1.4.2"
   }
  },
  "kernelspec": {
   "display_name": "Python 3",
   "language": "python",
   "name": "python3"
  },
  "language_info": {
   "codemirror_mode": {
    "name": "ipython",
    "version": 3
   },
   "file_extension": ".py",
   "mimetype": "text/x-python",
   "name": "python",
   "nbconvert_exporter": "python",
   "pygments_lexer": "ipython3",
   "version": "3.7.3"
  },
  "varInspector": {
   "cols": {
    "lenName": 16,
    "lenType": 16,
    "lenVar": 40
   },
   "kernels_config": {
    "python": {
     "delete_cmd_postfix": "",
     "delete_cmd_prefix": "del ",
     "library": "var_list.py",
     "varRefreshCmd": "print(var_dic_list())"
    },
    "r": {
     "delete_cmd_postfix": ") ",
     "delete_cmd_prefix": "rm(",
     "library": "var_list.r",
     "varRefreshCmd": "cat(var_dic_list()) "
    }
   },
   "types_to_exclude": [
    "module",
    "function",
    "builtin_function_or_method",
    "instance",
    "_Feature"
   ],
   "window_display": false
  }
 },
 "nbformat": 4,
 "nbformat_minor": 4
}
